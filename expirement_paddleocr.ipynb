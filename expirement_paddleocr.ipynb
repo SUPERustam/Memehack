{
 "cells": [
  {
   "cell_type": "code",
   "execution_count": 2,
   "metadata": {},
   "outputs": [],
   "source": [
    "from paddleocr import PaddleOCR"
   ]
  },
  {
   "cell_type": "markdown",
   "metadata": {},
   "source": [
    "Install paddleocr (run once)"
   ]
  },
  {
   "cell_type": "code",
   "execution_count": 11,
   "metadata": {},
   "outputs": [],
   "source": [
    "def setup_paddleocr():\n",
    "    ocr_cyr = PaddleOCR(use_angle_cls=False, lang='cyrillic')\n",
    "    ocr_en = PaddleOCR(use_angle_cls=False, lang='en')\n",
    "    yield ocr_cyr, ocr_en"
   ]
  },
  {
   "cell_type": "code",
   "execution_count": 12,
   "metadata": {},
   "outputs": [
    {
     "name": "stdout",
     "output_type": "stream",
     "text": [
      "[2023/09/21 11:29:08] ppocr DEBUG: Namespace(help='==SUPPRESS==', use_gpu=False, use_xpu=False, use_npu=False, ir_optim=True, use_tensorrt=False, min_subgraph_size=15, precision='fp32', gpu_mem=500, gpu_id=0, image_dir=None, page_num=0, det_algorithm='DB', det_model_dir='/home/codespace/.paddleocr/whl/det/ml/Multilingual_PP-OCRv3_det_infer', det_limit_side_len=960, det_limit_type='max', det_box_type='quad', det_db_thresh=0.3, det_db_box_thresh=0.6, det_db_unclip_ratio=1.5, max_batch_size=10, use_dilation=False, det_db_score_mode='fast', det_east_score_thresh=0.8, det_east_cover_thresh=0.1, det_east_nms_thresh=0.2, det_sast_score_thresh=0.5, det_sast_nms_thresh=0.2, det_pse_thresh=0, det_pse_box_thresh=0.85, det_pse_min_area=16, det_pse_scale=1, scales=[8, 16, 32], alpha=1.0, beta=1.0, fourier_degree=5, rec_algorithm='SVTR_LCNet', rec_model_dir='/home/codespace/.paddleocr/whl/rec/cyrillic/cyrillic_PP-OCRv3_rec_infer', rec_image_inverse=True, rec_image_shape='3, 48, 320', rec_batch_num=6, max_text_length=25, rec_char_dict_path='/home/codespace/.python/current/lib/python3.10/site-packages/paddleocr/ppocr/utils/dict/cyrillic_dict.txt', use_space_char=True, vis_font_path='./doc/fonts/simfang.ttf', drop_score=0.5, e2e_algorithm='PGNet', e2e_model_dir=None, e2e_limit_side_len=768, e2e_limit_type='max', e2e_pgnet_score_thresh=0.5, e2e_char_dict_path='./ppocr/utils/ic15_dict.txt', e2e_pgnet_valid_set='totaltext', e2e_pgnet_mode='fast', use_angle_cls=False, cls_model_dir='/home/codespace/.paddleocr/whl/cls/ch_ppocr_mobile_v2.0_cls_infer', cls_image_shape='3, 48, 192', label_list=['0', '180'], cls_batch_num=6, cls_thresh=0.9, enable_mkldnn=False, cpu_threads=10, use_pdserving=False, warmup=False, sr_model_dir=None, sr_image_shape='3, 32, 128', sr_batch_num=1, draw_img_save_dir='./inference_results', save_crop_res=False, crop_res_save_dir='./output', use_mp=False, total_process_num=1, process_id=0, benchmark=False, save_log_path='./log_output/', show_log=True, use_onnx=False, output='./output', table_max_len=488, table_algorithm='TableAttn', table_model_dir=None, merge_no_span_structure=True, table_char_dict_path=None, layout_model_dir=None, layout_dict_path=None, layout_score_threshold=0.5, layout_nms_threshold=0.5, kie_algorithm='LayoutXLM', ser_model_dir=None, re_model_dir=None, use_visual_backbone=True, ser_dict_path='../train_data/XFUND/class_list_xfun.txt', ocr_order_method=None, mode='structure', image_orientation=False, layout=True, table=True, ocr=True, recovery=False, use_pdf2docx_api=False, invert=False, binarize=False, alphacolor=(255, 255, 255), lang='cyrillic', det=True, rec=True, type='ocr', ocr_version='PP-OCRv4', structure_version='PP-StructureV2')\n",
      "[2023/09/21 11:29:08] ppocr DEBUG: Namespace(help='==SUPPRESS==', use_gpu=False, use_xpu=False, use_npu=False, ir_optim=True, use_tensorrt=False, min_subgraph_size=15, precision='fp32', gpu_mem=500, gpu_id=0, image_dir=None, page_num=0, det_algorithm='DB', det_model_dir='/home/codespace/.paddleocr/whl/det/en/en_PP-OCRv3_det_infer', det_limit_side_len=960, det_limit_type='max', det_box_type='quad', det_db_thresh=0.3, det_db_box_thresh=0.6, det_db_unclip_ratio=1.5, max_batch_size=10, use_dilation=False, det_db_score_mode='fast', det_east_score_thresh=0.8, det_east_cover_thresh=0.1, det_east_nms_thresh=0.2, det_sast_score_thresh=0.5, det_sast_nms_thresh=0.2, det_pse_thresh=0, det_pse_box_thresh=0.85, det_pse_min_area=16, det_pse_scale=1, scales=[8, 16, 32], alpha=1.0, beta=1.0, fourier_degree=5, rec_algorithm='SVTR_LCNet', rec_model_dir='/home/codespace/.paddleocr/whl/rec/en/en_PP-OCRv4_rec_infer', rec_image_inverse=True, rec_image_shape='3, 48, 320', rec_batch_num=6, max_text_length=25, rec_char_dict_path='/home/codespace/.python/current/lib/python3.10/site-packages/paddleocr/ppocr/utils/en_dict.txt', use_space_char=True, vis_font_path='./doc/fonts/simfang.ttf', drop_score=0.5, e2e_algorithm='PGNet', e2e_model_dir=None, e2e_limit_side_len=768, e2e_limit_type='max', e2e_pgnet_score_thresh=0.5, e2e_char_dict_path='./ppocr/utils/ic15_dict.txt', e2e_pgnet_valid_set='totaltext', e2e_pgnet_mode='fast', use_angle_cls=False, cls_model_dir='/home/codespace/.paddleocr/whl/cls/ch_ppocr_mobile_v2.0_cls_infer', cls_image_shape='3, 48, 192', label_list=['0', '180'], cls_batch_num=6, cls_thresh=0.9, enable_mkldnn=False, cpu_threads=10, use_pdserving=False, warmup=False, sr_model_dir=None, sr_image_shape='3, 32, 128', sr_batch_num=1, draw_img_save_dir='./inference_results', save_crop_res=False, crop_res_save_dir='./output', use_mp=False, total_process_num=1, process_id=0, benchmark=False, save_log_path='./log_output/', show_log=True, use_onnx=False, output='./output', table_max_len=488, table_algorithm='TableAttn', table_model_dir=None, merge_no_span_structure=True, table_char_dict_path=None, layout_model_dir=None, layout_dict_path=None, layout_score_threshold=0.5, layout_nms_threshold=0.5, kie_algorithm='LayoutXLM', ser_model_dir=None, re_model_dir=None, use_visual_backbone=True, ser_dict_path='../train_data/XFUND/class_list_xfun.txt', ocr_order_method=None, mode='structure', image_orientation=False, layout=True, table=True, ocr=True, recovery=False, use_pdf2docx_api=False, invert=False, binarize=False, alphacolor=(255, 255, 255), lang='en', det=True, rec=True, type='ocr', ocr_version='PP-OCRv4', structure_version='PP-StructureV2')\n"
     ]
    }
   ],
   "source": [
    "ocr_cyr, ocr_en = next(setup_paddleocr())"
   ]
  },
  {
   "cell_type": "markdown",
   "metadata": {},
   "source": [
    "Image to text function"
   ]
  },
  {
   "cell_type": "code",
   "execution_count": 5,
   "metadata": {},
   "outputs": [],
   "source": [
    "def image2text(img_path: str, ocr_model: PaddleOCR) -> str:\n",
    "    result = ocr_model.ocr(img_path, cls=False)[0]\n",
    "    ans = ''\n",
    "    for i in result:\n",
    "        ans += i[1][0] + '\\n'\n",
    "    return ans"
   ]
  },
  {
   "cell_type": "markdown",
   "metadata": {},
   "source": [
    "Expirements:"
   ]
  },
  {
   "cell_type": "code",
   "execution_count": 6,
   "metadata": {},
   "outputs": [
    {
     "name": "stdout",
     "output_type": "stream",
     "text": [
      "[2023/09/21 11:25:07] ppocr DEBUG: dt_boxes num : 20, elapsed : 0.6024508476257324\n",
      "[2023/09/21 11:25:09] ppocr DEBUG: rec_res num  : 20, elapsed : 1.6884503364562988\n"
     ]
    }
   ],
   "source": [
    "img_path = 'images/rus2_hard.png'\n",
    "result = image2text(img_path, ocr_cyr)"
   ]
  },
  {
   "cell_type": "code",
   "execution_count": 15,
   "metadata": {},
   "outputs": [
    {
     "name": "stdout",
     "output_type": "stream",
     "text": [
      "[2023/09/21 11:35:59] ppocr DEBUG: dt_boxes num : 12, elapsed : 0.6307735443115234\n",
      "[2023/09/21 11:36:00] ppocr DEBUG: rec_res num  : 12, elapsed : 1.1792457103729248\n",
      "[2023/09/21 11:36:01] ppocr DEBUG: dt_boxes num : 7, elapsed : 0.6500523090362549\n",
      "[2023/09/21 11:36:02] ppocr DEBUG: rec_res num  : 7, elapsed : 0.9214537143707275\n",
      "[2023/09/21 11:36:02] ppocr DEBUG: dt_boxes num : 1, elapsed : 0.21988940238952637\n",
      "[2023/09/21 11:36:02] ppocr DEBUG: rec_res num  : 1, elapsed : 0.09557580947875977\n",
      "[2023/09/21 11:36:02] ppocr DEBUG: dt_boxes num : 1, elapsed : 0.23428058624267578\n",
      "[2023/09/21 11:36:02] ppocr DEBUG: rec_res num  : 1, elapsed : 0.11840200424194336\n",
      "[2023/09/21 11:36:03] ppocr DEBUG: dt_boxes num : 10, elapsed : 0.5825743675231934\n",
      "[2023/09/21 11:36:04] ppocr DEBUG: rec_res num  : 10, elapsed : 0.789201021194458\n",
      "[2023/09/21 11:36:04] ppocr DEBUG: dt_boxes num : 4, elapsed : 0.5982849597930908\n",
      "[2023/09/21 11:36:05] ppocr DEBUG: rec_res num  : 4, elapsed : 0.9882230758666992\n",
      "[2023/09/21 11:36:06] ppocr DEBUG: dt_boxes num : 21, elapsed : 0.2473907470703125\n",
      "[2023/09/21 11:36:08] ppocr DEBUG: rec_res num  : 21, elapsed : 1.8585536479949951\n",
      "[2023/09/21 11:36:08] ppocr DEBUG: dt_boxes num : 14, elapsed : 0.23540472984313965\n",
      "[2023/09/21 11:36:10] ppocr DEBUG: rec_res num  : 14, elapsed : 1.6509325504302979\n",
      "[2023/09/21 11:36:10] ppocr DEBUG: dt_boxes num : 14, elapsed : 0.5892152786254883\n",
      "[2023/09/21 11:36:11] ppocr DEBUG: rec_res num  : 14, elapsed : 1.1953909397125244\n",
      "[2023/09/21 11:36:12] ppocr DEBUG: dt_boxes num : 6, elapsed : 0.5628912448883057\n",
      "[2023/09/21 11:36:13] ppocr DEBUG: rec_res num  : 6, elapsed : 1.0522069931030273\n",
      "[2023/09/21 11:36:13] ppocr DEBUG: dt_boxes num : 20, elapsed : 0.5293049812316895\n",
      "[2023/09/21 11:36:15] ppocr DEBUG: rec_res num  : 20, elapsed : 1.6459200382232666\n",
      "[2023/09/21 11:36:16] ppocr DEBUG: dt_boxes num : 6, elapsed : 0.5538368225097656\n",
      "[2023/09/21 11:36:17] ppocr DEBUG: rec_res num  : 6, elapsed : 1.710794448852539\n",
      "[2023/09/21 11:36:18] ppocr DEBUG: dt_boxes num : 13, elapsed : 0.1746826171875\n",
      "[2023/09/21 11:36:19] ppocr DEBUG: rec_res num  : 13, elapsed : 1.1962759494781494\n",
      "[2023/09/21 11:36:19] ppocr DEBUG: dt_boxes num : 3, elapsed : 0.1732163429260254\n",
      "[2023/09/21 11:36:20] ppocr DEBUG: rec_res num  : 3, elapsed : 0.7750215530395508\n",
      "[2023/09/21 11:36:20] ppocr DEBUG: dt_boxes num : 57, elapsed : 0.6553173065185547\n",
      "[2023/09/21 11:36:25] ppocr DEBUG: rec_res num  : 57, elapsed : 4.812091588973999\n",
      "[2023/09/21 11:36:26] ppocr DEBUG: dt_boxes num : 20, elapsed : 0.6022179126739502\n",
      "[2023/09/21 11:36:29] ppocr DEBUG: rec_res num  : 20, elapsed : 3.124177932739258\n",
      "[2023/09/21 11:36:30] ppocr DEBUG: dt_boxes num : 17, elapsed : 0.6098766326904297\n",
      "[2023/09/21 11:36:31] ppocr DEBUG: rec_res num  : 17, elapsed : 1.4849927425384521\n",
      "[2023/09/21 11:36:32] ppocr DEBUG: dt_boxes num : 5, elapsed : 0.6843430995941162\n",
      "[2023/09/21 11:36:34] ppocr DEBUG: rec_res num  : 5, elapsed : 1.6959149837493896\n",
      "[2023/09/21 11:36:35] ppocr DEBUG: dt_boxes num : 16, elapsed : 0.6970653533935547\n",
      "[2023/09/21 11:36:36] ppocr DEBUG: rec_res num  : 16, elapsed : 1.5268778800964355\n",
      "[2023/09/21 11:36:37] ppocr DEBUG: dt_boxes num : 11, elapsed : 0.72940993309021\n",
      "[2023/09/21 11:36:39] ppocr DEBUG: rec_res num  : 11, elapsed : 1.686934471130371\n"
     ]
    }
   ],
   "source": [
    "import os\n",
    "images = os.listdir('images/')\n",
    "for im in images:\n",
    "    if im == '.DS_Store':\n",
    "        continue\n",
    "    im_name = im[:im.find('.')]\n",
    "    img_path = f'images/{im}'\n",
    "    ans = f\"\\nPaddleOCR cyr:\\n\\n{image2text(img_path, ocr_cyr)}\\nPaddleOCR en:\\n\\n{image2text(img_path, ocr_en)}\"\n",
    "    with open(f'answers/{im_name}.txt', 'a') as ans_file:\n",
    "        ans_file.write(ans)\n",
    "    "
   ]
  }
 ],
 "metadata": {
  "kernelspec": {
   "display_name": "Python 3",
   "language": "python",
   "name": "python3"
  },
  "language_info": {
   "codemirror_mode": {
    "name": "ipython",
    "version": 3
   },
   "file_extension": ".py",
   "mimetype": "text/x-python",
   "name": "python",
   "nbconvert_exporter": "python",
   "pygments_lexer": "ipython3",
   "version": "3.10.8"
  },
  "orig_nbformat": 4
 },
 "nbformat": 4,
 "nbformat_minor": 2
}

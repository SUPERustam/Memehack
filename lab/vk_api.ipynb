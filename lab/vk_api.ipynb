{
 "cells": [
  {
   "cell_type": "code",
   "execution_count": 1,
   "metadata": {},
   "outputs": [],
   "source": [
    "import httpx\n",
    "import json\n",
    "from pprint import pprint\n",
    "from IPython.display import Image, display\n",
    "from datetime import datetime\n",
    "\n",
    "import sys\n",
    "sys.path.append(\"../\")\n",
    "\n",
    "from config import VK_ACCESS_TOKEN"
   ]
  },
  {
   "cell_type": "code",
   "execution_count": 2,
   "metadata": {},
   "outputs": [],
   "source": [
    "def link_to_owner_id(link: str) -> int:\n",
    "    return int(link[link.find('-'):link.find('_')])"
   ]
  },
  {
   "cell_type": "code",
   "execution_count": 3,
   "metadata": {},
   "outputs": [
    {
     "name": "stdout",
     "output_type": "stream",
     "text": [
      "-206845783\n",
      "vk1.a.xsOR4LDhNLz7Brd_gDhEEZgW4SLbKHfzyX6cAWuEEkx_1rowyMIQlsBmW4iGPCi5W3BasAva-xoxOw8RslCK_uxHoS0t3bNvIqqcX9L7TMA_I3E0AVeOAiGNbAmyZpvTDEVRy2eblDYIarrCaWfmxIgMAEidR7iswVWmS1j7xO-epTrpynZlpXSqMipWQDrSdDXIR2xxzj3IuT8__94-OA\n"
     ]
    }
   ],
   "source": [
    "owner_id = link_to_owner_id(\"https://vk.com/album-206845783_00\")\n",
    "print(owner_id)\n",
    "data = {\n",
    "'access_token': VK_ACCESS_TOKEN,\n",
    "'owner_id': owner_id,\n",
    "'count': 200,\n",
    "'offset': 0,\n",
    "'v': 5.103\n",
    "}\n",
    "\n",
    "r = httpx.post(\"https://api.vk.com/method/photos.getAll\", data=data)\n",
    "with open('album.json', 'wb') as f:\n",
    "    f.write(r.content)\n"
   ]
  },
  {
   "cell_type": "code",
   "execution_count": 4,
   "metadata": {},
   "outputs": [
    {
     "name": "stdout",
     "output_type": "stream",
     "text": [
      "1\n"
     ]
    }
   ],
   "source": [
    "dct = r.json()\n",
    "dct_images = {}\n",
    "set_ids = set()\n",
    "\n",
    "items = dct['response']['items']\n",
    "count_items = len(items)\n",
    "print(count_items)\n",
    "\n",
    "for i in range(count_items):\n",
    "    sizes = items[i]['sizes']\n",
    "    for size in sizes:\n",
    "        if size['type'] == 'w':\n",
    "            dct_images[items[i]['id']] = (size['url'], datetime.fromtimestamp(items[i]['date']))\n",
    "            break\n",
    "        if size['type'] == 'z':\n",
    "            dct_images[items[i]['id']] = (size['url'], datetime.fromtimestamp(items[i]['date']))\n",
    "\n"
   ]
  },
  {
   "cell_type": "code",
   "execution_count": 5,
   "metadata": {},
   "outputs": [
    {
     "name": "stdout",
     "output_type": "stream",
     "text": [
      "1\n",
      "2021-08-31 19:04:07\n"
     ]
    },
    {
     "data": {
      "text/html": [
       "<img src=\"https://sun9-27.userapi.com/impg/z-HJBhlcABdyFyrmq28W_GS9qXmcN9hjquoJ8Q/tbGyGZ_fPU8.jpg?size=1200x1078&quality=96&sign=6a9d1bdb333605a8f4bd944a9cd677d4&c_uniq_tag=bcCKd4OdHq7a76QuMNlvodzSB87r8xmLsU3RJxYf5H8&type=album\"/>"
      ],
      "text/plain": [
       "<IPython.core.display.Image object>"
      ]
     },
     "metadata": {},
     "output_type": "display_data"
    }
   ],
   "source": [
    "print(len(dct_images))\n",
    "\n",
    "for i in dct_images.items():\n",
    "    print(i[1][1])\n",
    "    display(Image(url=i[1][0]))"
   ]
  }
 ],
 "metadata": {
  "kernelspec": {
   "display_name": ".env",
   "language": "python",
   "name": "python3"
  },
  "language_info": {
   "codemirror_mode": {
    "name": "ipython",
    "version": 3
   },
   "file_extension": ".py",
   "mimetype": "text/x-python",
   "name": "python",
   "nbconvert_exporter": "python",
   "pygments_lexer": "ipython3",
   "version": "3.11.6"
  },
  "orig_nbformat": 4
 },
 "nbformat": 4,
 "nbformat_minor": 2
}

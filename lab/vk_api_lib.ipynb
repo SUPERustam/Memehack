{
 "cells": [
  {
   "cell_type": "code",
   "execution_count": 10,
   "metadata": {},
   "outputs": [],
   "source": [
    "import vk_api\n",
    "import requests\n",
    "import os\n",
    "try:\n",
    "    import configparser\n",
    "except ImportError:\n",
    "    import ConfigParser as configparser"
   ]
  },
  {
   "cell_type": "code",
   "execution_count": 11,
   "metadata": {},
   "outputs": [
    {
     "name": "stdout",
     "output_type": "stream",
     "text": [
      "0superustam0 Forbottelegram4 publicdatascience777 0\n"
     ]
    }
   ],
   "source": [
    "config = configparser.ConfigParser()\n",
    "\n",
    "def createConfig(path):\n",
    "    config.add_section(\"Configuration\")\n",
    "    config.set(\"Configuration\", \"Login\", \"login\")\n",
    "    config.set(\"Configuration\", \"Password\", \"password\")\n",
    "    config.set(\"Configuration\", \"Group_URL\", \"daydream325\")\n",
    "    config.set(\"Configuration\", \"Offset\", \"0\")\n",
    "    with open(path, \"w\") as config_file:\n",
    "        config.write(config_file)\n",
    "\n",
    "config.read(\"Configuration.ini\")\n",
    "if __name__ == \"__main__\":\n",
    "    path = \"Configuration.ini\"\n",
    "    if not os.path.exists(path):\n",
    "        createConfig(path)\n",
    "\n",
    "LOGIN = config.get(\"Configuration\", \"Login\")\n",
    "PASSWORD = config.get(\"Configuration\", \"Password\")\n",
    "GROUP_URL = config.get(\"Configuration\", \"Group_URL\")\n",
    "OFFSET = config.get(\"Configuration\", \"Offset\")\n",
    "\n",
    "print(LOGIN, PASSWORD, GROUP_URL, OFFSET)\n"
   ]
  },
  {
   "cell_type": "code",
   "execution_count": 13,
   "metadata": {},
   "outputs": [
    {
     "name": "stdout",
     "output_type": "stream",
     "text": [
      "Bad password\n",
      "None\n"
     ]
    }
   ],
   "source": [
    "def authorization():\n",
    "\tvk_session = vk_api.VkApi(LOGIN, PASSWORD)\n",
    "\ttry:\n",
    "\t\tvk_session.auth()\n",
    "\texcept vk_api.AuthError as error_msg:\n",
    "\t\tprint(error_msg)\n",
    "\t\treturn\n",
    "\treturn vk_session.get_api()\n",
    "\n",
    "vk = authorization()"
   ]
  },
  {
   "cell_type": "code",
   "execution_count": null,
   "metadata": {},
   "outputs": [],
   "source": [
    "def main():\n",
    "    vk = authorization()\n",
    "    group = vk.groups.getById(group_id=GROUP_URL)[0]['id']\n",
    "    photoAlbums = vk.photos.getAlbums(owner_id = \"-\"+str(group))['items']\n",
    "    for album in photoAlbums:\n",
    "        i = int(OFFSET)\n",
    "        try:\n",
    "            if not os.path.exists(\"parsed/\"+album['title']):\n",
    "                os.makedirs(\"parsed/\"+album['title'])\n",
    "        except (FileNotFoundError, NotADirectoryError, OSError):\n",
    "            if not os.path.exists(\"parsed/\"+str(album['id'])):\n",
    "                os.makedirs(\"parsed/\"+str(album['id']))\n",
    "        getphotos = vk.photos.get(owner_id = \"-\"+str(group), album_id = album['id'], photo_sizes = 1, count = 1000, offset = OFFSET)\n",
    "        photos = getphotos['items']\n",
    "        for photo in photos:\n",
    "            try:\n",
    "                if int(OFFSET) < int(getphotos['count']):\n",
    "                    biggest = photo['sizes'][0]['width']\n",
    "                    biggestSrc = photo['sizes'][0]['url']\n",
    "                else:\n",
    "                    continue\n",
    "            except IndexError:\n",
    "                continue\n",
    "            for size in photo['sizes']:\n",
    "                if size['width'] > biggest:\n",
    "                    try:\n",
    "                        if int(OFFSET) < int(getphotos['count']):\n",
    "                            biggest = size['width']\n",
    "                            biggestSrc = size['url']\n",
    "                        else:\n",
    "                            continue\n",
    "                    except IndexError:\n",
    "                        continue\n",
    "            content = requests.get(biggestSrc).content\n",
    "            try:\n",
    "                with open(\"parsed/\"+album['title']+\"/\"+str(i)+\".jpg\", \"wb\") as f:\n",
    "                    f.write(content)\n",
    "            except (FileNotFoundError, NotADirectoryError, OSError):\n",
    "                try:\n",
    "                    with open(\"parsed/\"+str(album['id'])+\"/\"+str(i)+\".jpg\", \"wb\") as f:\n",
    "                        f.write(content)\n",
    "                except FileNotFoundError:\n",
    "                    continue\n",
    "            \n",
    "            print(\"parsed/\"+album['title']+\"/\"+str(i)+\".jpg\")\n",
    "            i = i + 1\n",
    "\n",
    "if __name__ == \"__main__\":\n",
    "    main()"
   ]
  }
 ],
 "metadata": {
  "kernelspec": {
   "display_name": "Python 3",
   "language": "python",
   "name": "python3"
  },
  "language_info": {
   "codemirror_mode": {
    "name": "ipython",
    "version": 3
   },
   "file_extension": ".py",
   "mimetype": "text/x-python",
   "name": "python",
   "nbconvert_exporter": "python",
   "pygments_lexer": "ipython3",
   "version": "3.11.6"
  }
 },
 "nbformat": 4,
 "nbformat_minor": 2
}
